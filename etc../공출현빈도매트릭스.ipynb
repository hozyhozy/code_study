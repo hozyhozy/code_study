{
 "cells": [
  {
   "cell_type": "markdown",
   "metadata": {
    "id": "bno9ZIYJILkQ"
   },
   "source": [
    "## Co-occurrence matrix 생성"
   ]
  },
  {
   "cell_type": "markdown",
   "metadata": {
    "id": "QKD3fsfRILkX"
   },
   "source": [
    "### - 형태소 추출"
   ]
  },
  {
   "cell_type": "code",
   "execution_count": 12,
   "metadata": {
    "id": "Dpd8gm4aILkY"
   },
   "outputs": [],
   "source": [
    "from konlpy.tag import Okt\n",
    "import konlpy\n",
    "import pandas as pd\n",
    "okt = Okt()"
   ]
  },
  {
   "cell_type": "markdown",
   "metadata": {
    "id": "mYmkJJxOILkZ"
   },
   "source": [
    "### - 데이터 로드"
   ]
  },
  {
   "cell_type": "code",
   "execution_count": 13,
   "metadata": {
    "id": "KZ8orO3LILkZ"
   },
   "outputs": [],
   "source": [
    "import pickle"
   ]
  },
  {
   "cell_type": "code",
   "execution_count": 14,
   "metadata": {
    "id": "oCmDtnitILkZ"
   },
   "outputs": [],
   "source": [
    "#도큐먼트별로 띄어쓰기기준으로 분리된 토큰들\n",
    "with open ('FINAL_cluster0-0.txt', 'rb') as f:\n",
    "    loaded_data = pickle.load(f)"
   ]
  },
  {
   "cell_type": "code",
   "execution_count": 15,
   "metadata": {
    "id": "qkxPVI8iILkZ",
    "outputId": "e96018f6-d37a-4607-fb48-85426dd8569d"
   },
   "outputs": [
    {
     "data": {
      "text/plain": [
       "26894"
      ]
     },
     "execution_count": 15,
     "metadata": {},
     "output_type": "execute_result"
    }
   ],
   "source": [
    "len(loaded_data)"
   ]
  },
  {
   "cell_type": "markdown",
   "metadata": {
    "id": "VmU6LFs9ILka"
   },
   "source": [
    "# loaded_data"
   ]
  },
  {
   "cell_type": "markdown",
   "metadata": {
    "id": "INy0ZpAdILkb"
   },
   "source": [
    "### - 매트릭스"
   ]
  },
  {
   "cell_type": "markdown",
   "metadata": {
    "id": "3eQxk0ITILkb"
   },
   "source": [
    "* Countvectorizer"
   ]
  },
  {
   "cell_type": "code",
   "execution_count": 16,
   "metadata": {
    "id": "KK2n_oavILkb"
   },
   "outputs": [],
   "source": [
    "from sklearn.feature_extraction.text import CountVectorizer"
   ]
  },
  {
   "cell_type": "code",
   "execution_count": 17,
   "metadata": {
    "id": "yoQJp3hHILkc"
   },
   "outputs": [],
   "source": [
    "cv=CountVectorizer()"
   ]
  },
  {
   "cell_type": "markdown",
   "metadata": {
    "id": "D_flUTACILkc"
   },
   "source": [
    "## 동시출현빈도"
   ]
  },
  {
   "cell_type": "code",
   "execution_count": 18,
   "metadata": {
    "id": "r-UbO_PeILkc",
    "outputId": "994c9705-5f82-4040-e16c-f5bc81a165fa"
   },
   "outputs": [
    {
     "data": {
      "text/plain": [
       "matrix([[0, 0, 0, ..., 0, 0, 0],\n",
       "        [0, 0, 2, ..., 0, 0, 0],\n",
       "        [0, 2, 0, ..., 0, 0, 1],\n",
       "        ...,\n",
       "        [0, 0, 0, ..., 0, 0, 0],\n",
       "        [0, 0, 0, ..., 0, 0, 0],\n",
       "        [0, 0, 1, ..., 0, 0, 0]])"
      ]
     },
     "execution_count": 18,
     "metadata": {},
     "output_type": "execute_result"
    }
   ],
   "source": [
    "X = cv.fit_transform(loaded_data)\n",
    "Xc = (X.T * X)\n",
    "Xc.setdiag(0) #대각선 원소를 0으로\n",
    "Xc.todense() # 밀집행렬로 변형 (matrix형으로)"
   ]
  },
  {
   "cell_type": "code",
   "execution_count": 19,
   "metadata": {
    "id": "C-mimQ9KILkc"
   },
   "outputs": [],
   "source": [
    "names = cv.get_feature_names()\n",
    "#Xc.toarray() .todense와 같지만 array형태로 만들어줘서 dataframe에 넣음\n",
    "df = pd.DataFrame(data = Xc.toarray(), columns = names, index = names)"
   ]
  },
  {
   "cell_type": "code",
   "execution_count": 20,
   "metadata": {
    "id": "5bZHTyenILkd",
    "outputId": "b63769e2-d6b7-43e2-ca93-87c5949a8eaa",
    "scrolled": false
   },
   "outputs": [
    {
     "data": {
      "text/plain": [
       "Index(['가감', '가게', '가격', '가계', '가계부', '가공', '가관', '가구', '가군', '가글',\n",
       "       ...\n",
       "       '힙꺼', '힙니', '힙먹구', '힙먹여', '힙킨', '힙킨더', '힙퓨레', '힙프레', '힛흠', '힝누'],\n",
       "      dtype='object', length=22385)"
      ]
     },
     "execution_count": 20,
     "metadata": {},
     "output_type": "execute_result"
    }
   ],
   "source": [
    "df.index"
   ]
  },
  {
   "cell_type": "code",
   "execution_count": 21,
   "metadata": {
    "id": "HOlagJgcILkd",
    "outputId": "00085198-e567-4544-d1e8-7d7fe5071f98"
   },
   "outputs": [
    {
     "data": {
      "text/html": [
       "<div>\n",
       "<style scoped>\n",
       "    .dataframe tbody tr th:only-of-type {\n",
       "        vertical-align: middle;\n",
       "    }\n",
       "\n",
       "    .dataframe tbody tr th {\n",
       "        vertical-align: top;\n",
       "    }\n",
       "\n",
       "    .dataframe thead th {\n",
       "        text-align: right;\n",
       "    }\n",
       "</style>\n",
       "<table border=\"1\" class=\"dataframe\">\n",
       "  <thead>\n",
       "    <tr style=\"text-align: right;\">\n",
       "      <th></th>\n",
       "      <th>가감</th>\n",
       "      <th>가게</th>\n",
       "      <th>가격</th>\n",
       "      <th>가계</th>\n",
       "      <th>가계부</th>\n",
       "      <th>가공</th>\n",
       "      <th>가관</th>\n",
       "      <th>가구</th>\n",
       "      <th>가군</th>\n",
       "      <th>가글</th>\n",
       "      <th>...</th>\n",
       "      <th>힙꺼</th>\n",
       "      <th>힙니</th>\n",
       "      <th>힙먹구</th>\n",
       "      <th>힙먹여</th>\n",
       "      <th>힙킨</th>\n",
       "      <th>힙킨더</th>\n",
       "      <th>힙퓨레</th>\n",
       "      <th>힙프레</th>\n",
       "      <th>힛흠</th>\n",
       "      <th>힝누</th>\n",
       "    </tr>\n",
       "  </thead>\n",
       "  <tbody>\n",
       "    <tr>\n",
       "      <th>가감</th>\n",
       "      <td>0</td>\n",
       "      <td>0</td>\n",
       "      <td>0</td>\n",
       "      <td>0</td>\n",
       "      <td>0</td>\n",
       "      <td>0</td>\n",
       "      <td>0</td>\n",
       "      <td>0</td>\n",
       "      <td>0</td>\n",
       "      <td>0</td>\n",
       "      <td>...</td>\n",
       "      <td>0</td>\n",
       "      <td>0</td>\n",
       "      <td>0</td>\n",
       "      <td>0</td>\n",
       "      <td>0</td>\n",
       "      <td>0</td>\n",
       "      <td>0</td>\n",
       "      <td>0</td>\n",
       "      <td>0</td>\n",
       "      <td>0</td>\n",
       "    </tr>\n",
       "    <tr>\n",
       "      <th>가게</th>\n",
       "      <td>0</td>\n",
       "      <td>0</td>\n",
       "      <td>2</td>\n",
       "      <td>0</td>\n",
       "      <td>0</td>\n",
       "      <td>0</td>\n",
       "      <td>0</td>\n",
       "      <td>0</td>\n",
       "      <td>0</td>\n",
       "      <td>0</td>\n",
       "      <td>...</td>\n",
       "      <td>0</td>\n",
       "      <td>0</td>\n",
       "      <td>0</td>\n",
       "      <td>0</td>\n",
       "      <td>0</td>\n",
       "      <td>0</td>\n",
       "      <td>0</td>\n",
       "      <td>0</td>\n",
       "      <td>0</td>\n",
       "      <td>0</td>\n",
       "    </tr>\n",
       "    <tr>\n",
       "      <th>가격</th>\n",
       "      <td>0</td>\n",
       "      <td>2</td>\n",
       "      <td>0</td>\n",
       "      <td>0</td>\n",
       "      <td>0</td>\n",
       "      <td>0</td>\n",
       "      <td>0</td>\n",
       "      <td>0</td>\n",
       "      <td>0</td>\n",
       "      <td>0</td>\n",
       "      <td>...</td>\n",
       "      <td>0</td>\n",
       "      <td>0</td>\n",
       "      <td>0</td>\n",
       "      <td>2</td>\n",
       "      <td>0</td>\n",
       "      <td>0</td>\n",
       "      <td>0</td>\n",
       "      <td>0</td>\n",
       "      <td>0</td>\n",
       "      <td>1</td>\n",
       "    </tr>\n",
       "    <tr>\n",
       "      <th>가계</th>\n",
       "      <td>0</td>\n",
       "      <td>0</td>\n",
       "      <td>0</td>\n",
       "      <td>0</td>\n",
       "      <td>0</td>\n",
       "      <td>0</td>\n",
       "      <td>0</td>\n",
       "      <td>0</td>\n",
       "      <td>0</td>\n",
       "      <td>0</td>\n",
       "      <td>...</td>\n",
       "      <td>0</td>\n",
       "      <td>0</td>\n",
       "      <td>0</td>\n",
       "      <td>0</td>\n",
       "      <td>0</td>\n",
       "      <td>0</td>\n",
       "      <td>0</td>\n",
       "      <td>0</td>\n",
       "      <td>0</td>\n",
       "      <td>0</td>\n",
       "    </tr>\n",
       "    <tr>\n",
       "      <th>가계부</th>\n",
       "      <td>0</td>\n",
       "      <td>0</td>\n",
       "      <td>0</td>\n",
       "      <td>0</td>\n",
       "      <td>0</td>\n",
       "      <td>0</td>\n",
       "      <td>0</td>\n",
       "      <td>0</td>\n",
       "      <td>0</td>\n",
       "      <td>0</td>\n",
       "      <td>...</td>\n",
       "      <td>0</td>\n",
       "      <td>0</td>\n",
       "      <td>0</td>\n",
       "      <td>0</td>\n",
       "      <td>0</td>\n",
       "      <td>0</td>\n",
       "      <td>0</td>\n",
       "      <td>0</td>\n",
       "      <td>0</td>\n",
       "      <td>0</td>\n",
       "    </tr>\n",
       "    <tr>\n",
       "      <th>...</th>\n",
       "      <td>...</td>\n",
       "      <td>...</td>\n",
       "      <td>...</td>\n",
       "      <td>...</td>\n",
       "      <td>...</td>\n",
       "      <td>...</td>\n",
       "      <td>...</td>\n",
       "      <td>...</td>\n",
       "      <td>...</td>\n",
       "      <td>...</td>\n",
       "      <td>...</td>\n",
       "      <td>...</td>\n",
       "      <td>...</td>\n",
       "      <td>...</td>\n",
       "      <td>...</td>\n",
       "      <td>...</td>\n",
       "      <td>...</td>\n",
       "      <td>...</td>\n",
       "      <td>...</td>\n",
       "      <td>...</td>\n",
       "      <td>...</td>\n",
       "    </tr>\n",
       "    <tr>\n",
       "      <th>힙킨더</th>\n",
       "      <td>0</td>\n",
       "      <td>0</td>\n",
       "      <td>0</td>\n",
       "      <td>0</td>\n",
       "      <td>0</td>\n",
       "      <td>0</td>\n",
       "      <td>0</td>\n",
       "      <td>0</td>\n",
       "      <td>0</td>\n",
       "      <td>0</td>\n",
       "      <td>...</td>\n",
       "      <td>0</td>\n",
       "      <td>0</td>\n",
       "      <td>0</td>\n",
       "      <td>0</td>\n",
       "      <td>0</td>\n",
       "      <td>0</td>\n",
       "      <td>0</td>\n",
       "      <td>0</td>\n",
       "      <td>0</td>\n",
       "      <td>0</td>\n",
       "    </tr>\n",
       "    <tr>\n",
       "      <th>힙퓨레</th>\n",
       "      <td>0</td>\n",
       "      <td>0</td>\n",
       "      <td>0</td>\n",
       "      <td>0</td>\n",
       "      <td>0</td>\n",
       "      <td>2</td>\n",
       "      <td>0</td>\n",
       "      <td>0</td>\n",
       "      <td>0</td>\n",
       "      <td>0</td>\n",
       "      <td>...</td>\n",
       "      <td>0</td>\n",
       "      <td>0</td>\n",
       "      <td>0</td>\n",
       "      <td>0</td>\n",
       "      <td>0</td>\n",
       "      <td>0</td>\n",
       "      <td>0</td>\n",
       "      <td>0</td>\n",
       "      <td>0</td>\n",
       "      <td>0</td>\n",
       "    </tr>\n",
       "    <tr>\n",
       "      <th>힙프레</th>\n",
       "      <td>0</td>\n",
       "      <td>0</td>\n",
       "      <td>0</td>\n",
       "      <td>0</td>\n",
       "      <td>0</td>\n",
       "      <td>0</td>\n",
       "      <td>0</td>\n",
       "      <td>0</td>\n",
       "      <td>0</td>\n",
       "      <td>0</td>\n",
       "      <td>...</td>\n",
       "      <td>0</td>\n",
       "      <td>0</td>\n",
       "      <td>0</td>\n",
       "      <td>0</td>\n",
       "      <td>0</td>\n",
       "      <td>0</td>\n",
       "      <td>0</td>\n",
       "      <td>0</td>\n",
       "      <td>0</td>\n",
       "      <td>0</td>\n",
       "    </tr>\n",
       "    <tr>\n",
       "      <th>힛흠</th>\n",
       "      <td>0</td>\n",
       "      <td>0</td>\n",
       "      <td>0</td>\n",
       "      <td>0</td>\n",
       "      <td>0</td>\n",
       "      <td>0</td>\n",
       "      <td>0</td>\n",
       "      <td>0</td>\n",
       "      <td>0</td>\n",
       "      <td>0</td>\n",
       "      <td>...</td>\n",
       "      <td>0</td>\n",
       "      <td>0</td>\n",
       "      <td>0</td>\n",
       "      <td>0</td>\n",
       "      <td>0</td>\n",
       "      <td>0</td>\n",
       "      <td>0</td>\n",
       "      <td>0</td>\n",
       "      <td>0</td>\n",
       "      <td>0</td>\n",
       "    </tr>\n",
       "    <tr>\n",
       "      <th>힝누</th>\n",
       "      <td>0</td>\n",
       "      <td>0</td>\n",
       "      <td>1</td>\n",
       "      <td>0</td>\n",
       "      <td>0</td>\n",
       "      <td>0</td>\n",
       "      <td>0</td>\n",
       "      <td>0</td>\n",
       "      <td>0</td>\n",
       "      <td>0</td>\n",
       "      <td>...</td>\n",
       "      <td>0</td>\n",
       "      <td>0</td>\n",
       "      <td>0</td>\n",
       "      <td>0</td>\n",
       "      <td>0</td>\n",
       "      <td>0</td>\n",
       "      <td>0</td>\n",
       "      <td>0</td>\n",
       "      <td>0</td>\n",
       "      <td>0</td>\n",
       "    </tr>\n",
       "  </tbody>\n",
       "</table>\n",
       "<p>22385 rows × 22385 columns</p>\n",
       "</div>"
      ],
      "text/plain": [
       "     가감  가게  가격  가계  가계부  가공  가관  가구  가군  가글  ...  힙꺼  힙니  힙먹구  힙먹여  힙킨  힙킨더  \\\n",
       "가감    0   0   0   0    0   0   0   0   0   0  ...   0   0    0    0   0    0   \n",
       "가게    0   0   2   0    0   0   0   0   0   0  ...   0   0    0    0   0    0   \n",
       "가격    0   2   0   0    0   0   0   0   0   0  ...   0   0    0    2   0    0   \n",
       "가계    0   0   0   0    0   0   0   0   0   0  ...   0   0    0    0   0    0   \n",
       "가계부   0   0   0   0    0   0   0   0   0   0  ...   0   0    0    0   0    0   \n",
       "..   ..  ..  ..  ..  ...  ..  ..  ..  ..  ..  ...  ..  ..  ...  ...  ..  ...   \n",
       "힙킨더   0   0   0   0    0   0   0   0   0   0  ...   0   0    0    0   0    0   \n",
       "힙퓨레   0   0   0   0    0   2   0   0   0   0  ...   0   0    0    0   0    0   \n",
       "힙프레   0   0   0   0    0   0   0   0   0   0  ...   0   0    0    0   0    0   \n",
       "힛흠    0   0   0   0    0   0   0   0   0   0  ...   0   0    0    0   0    0   \n",
       "힝누    0   0   1   0    0   0   0   0   0   0  ...   0   0    0    0   0    0   \n",
       "\n",
       "     힙퓨레  힙프레  힛흠  힝누  \n",
       "가감     0    0   0   0  \n",
       "가게     0    0   0   0  \n",
       "가격     0    0   0   1  \n",
       "가계     0    0   0   0  \n",
       "가계부    0    0   0   0  \n",
       "..   ...  ...  ..  ..  \n",
       "힙킨더    0    0   0   0  \n",
       "힙퓨레    0    0   0   0  \n",
       "힙프레    0    0   0   0  \n",
       "힛흠     0    0   0   0  \n",
       "힝누     0    0   0   0  \n",
       "\n",
       "[22385 rows x 22385 columns]"
      ]
     },
     "execution_count": 21,
     "metadata": {},
     "output_type": "execute_result"
    }
   ],
   "source": [
    "df"
   ]
  },
  {
   "cell_type": "code",
   "execution_count": 22,
   "metadata": {
    "id": "EwhoZt-aILkd"
   },
   "outputs": [],
   "source": [
    "df.to_csv('co_occurrence matrix_cluster0_0.csv', encoding = 'utf-8-sig', sep = ',')"
   ]
  },
  {
   "cell_type": "code",
   "execution_count": null,
   "metadata": {},
   "outputs": [],
   "source": []
  },
  {
   "cell_type": "code",
   "execution_count": null,
   "metadata": {},
   "outputs": [],
   "source": []
  }
 ],
 "metadata": {
  "colab": {
   "name": "Step3_공출현빈도매트릭스.ipynb",
   "provenance": []
  },
  "kernelspec": {
   "display_name": "Python 3 (ipykernel)",
   "language": "python",
   "name": "python3"
  },
  "language_info": {
   "codemirror_mode": {
    "name": "ipython",
    "version": 3
   },
   "file_extension": ".py",
   "mimetype": "text/x-python",
   "name": "python",
   "nbconvert_exporter": "python",
   "pygments_lexer": "ipython3",
   "version": "3.9.7"
  }
 },
 "nbformat": 4,
 "nbformat_minor": 1
}
